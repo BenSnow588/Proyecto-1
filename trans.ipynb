{
 "cells": [
  {
   "cell_type": "markdown",
   "id": "ce3a6587",
   "metadata": {},
   "source": [
    "Vamos a general el DataFrame con pandas para ver el contenido del CSV"
   ]
  },
  {
   "cell_type": "code",
   "execution_count": 1,
   "id": "ca0b4950",
   "metadata": {},
   "outputs": [
    {
     "name": "stdout",
     "output_type": "stream",
     "text": [
      "  CheckingStatus  LoanDuration           CreditHistory LoanPurpose  \\\n",
      "0       0_to_200            31    credits_paid_to_date       other   \n",
      "1         less_0            18    credits_paid_to_date     car_new   \n",
      "2         less_0            15  prior_payments_delayed   furniture   \n",
      "3       0_to_200            28    credits_paid_to_date  retraining   \n",
      "4    no_checking            28  prior_payments_delayed   education   \n",
      "\n",
      "   LoanAmount ExistingSavings EmploymentDuration  InstallmentPercent     Sex  \\\n",
      "0        1889      100_to_500             less_1                   3  female   \n",
      "1         462        less_100             1_to_4                   2  female   \n",
      "2         250        less_100             1_to_4                   2    male   \n",
      "3        3693        less_100          greater_7                   3    male   \n",
      "4        6235     500_to_1000          greater_7                   3    male   \n",
      "\n",
      "  OthersOnLoan  ...       OwnsProperty Age  InstallmentPlans Housing  \\\n",
      "0         none  ...  savings_insurance  32              none     own   \n",
      "1         none  ...  savings_insurance  37            stores     own   \n",
      "2         none  ...        real_estate  28              none     own   \n",
      "3         none  ...  savings_insurance  32              none     own   \n",
      "4         none  ...            unknown  57              none     own   \n",
      "\n",
      "  ExistingCreditsCount      Job Dependents  Telephone ForeignWorker     Risk  \n",
      "0                    1  skilled          1       none           yes  No Risk  \n",
      "1                    2  skilled          1       none           yes  No Risk  \n",
      "2                    2  skilled          1        yes            no  No Risk  \n",
      "3                    1  skilled          1       none           yes  No Risk  \n",
      "4                    2  skilled          1       none           yes     Risk  \n",
      "\n",
      "[5 rows x 21 columns]\n"
     ]
    }
   ],
   "source": [
    "import pandas as pd\n",
    "\n",
    "df = pd.read_csv(\"german_credit_data_biased_training.csv\")\n",
    "print(df.head())"
   ]
  }
 ],
 "metadata": {
  "kernelspec": {
   "display_name": "Python 3",
   "language": "python",
   "name": "python3"
  },
  "language_info": {
   "codemirror_mode": {
    "name": "ipython",
    "version": 3
   },
   "file_extension": ".py",
   "mimetype": "text/x-python",
   "name": "python",
   "nbconvert_exporter": "python",
   "pygments_lexer": "ipython3",
   "version": "3.13.3"
  }
 },
 "nbformat": 4,
 "nbformat_minor": 5
}
